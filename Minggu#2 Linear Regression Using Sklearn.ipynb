{
  "nbformat": 4,
  "nbformat_minor": 0,
  "metadata": {
    "colab": {
      "name": "Untitled2.ipynb",
      "provenance": [],
      "authorship_tag": "ABX9TyP3DPGWpJjzQjcu47cFFE4B",
      "include_colab_link": true
    },
    "kernelspec": {
      "name": "python3",
      "display_name": "Python 3"
    },
    "language_info": {
      "name": "python"
    }
  },
  "cells": [
    {
      "cell_type": "markdown",
      "metadata": {
        "id": "view-in-github",
        "colab_type": "text"
      },
      "source": [
        "<a href=\"https://colab.research.google.com/github/hamzahpane/machine-learning/blob/main/Minggu%232%20Linear%20Regression%20Tutorial(1).ipynb\" target=\"_parent\"><img src=\"https://colab.research.google.com/assets/colab-badge.svg\" alt=\"Open In Colab\"/></a>"
      ]
    },
    {
      "cell_type": "code",
      "metadata": {
        "colab": {
          "base_uri": "https://localhost:8080/"
        },
        "id": "6uPS8-QCeeuV",
        "outputId": "a2a16012-d7d7-4723-8ac4-73640fbed3d5"
      },
      "source": [
        "from google.colab import drive\n",
        "drive.mount('/content/drive')"
      ],
      "execution_count": 1,
      "outputs": [
        {
          "output_type": "stream",
          "name": "stdout",
          "text": [
            "Mounted at /content/drive\n"
          ]
        }
      ]
    },
    {
      "cell_type": "markdown",
      "metadata": {
        "id": "u0w7-LYMe48a"
      },
      "source": [
        ""
      ]
    },
    {
      "cell_type": "code",
      "metadata": {
        "id": "RGyIs7rMerp0"
      },
      "source": [
        "#Memindah kan library"
      ],
      "execution_count": 3,
      "outputs": []
    },
    {
      "cell_type": "code",
      "metadata": {
        "id": "vXO0cXohfAHM"
      },
      "source": [
        "import numpy as np \n",
        "import pandas as pd \n",
        "import matplotlib.pyplot as plt "
      ],
      "execution_count": 4,
      "outputs": []
    },
    {
      "cell_type": "code",
      "metadata": {
        "colab": {
          "base_uri": "https://localhost:8080/"
        },
        "id": "KjJZEV73fEn4",
        "outputId": "4b3636e9-849d-499f-dab8-406118367c53"
      },
      "source": [
        "data = pd.read_csv('/content/drive/MyDrive/machin-learning(2)/train.csv')\n",
        "print(data.describe())\n",
        "\n",
        "data = data[data.x <= 100]"
      ],
      "execution_count": 9,
      "outputs": [
        {
          "output_type": "stream",
          "name": "stdout",
          "text": [
            "                 x           y\n",
            "count   700.000000  699.000000\n",
            "mean     54.985939   49.939869\n",
            "std     134.681703   29.109217\n",
            "min       0.000000   -3.839981\n",
            "25%      25.000000   24.929968\n",
            "50%      49.000000   48.973020\n",
            "75%      75.000000   74.929911\n",
            "max    3530.157369  108.871618\n"
          ]
        }
      ]
    },
    {
      "cell_type": "code",
      "metadata": {
        "id": "I7WMVlEkgyAj"
      },
      "source": [
        "x = data.iloc[:, 0:1].values\n",
        "y = data.iloc[:, 1]"
      ],
      "execution_count": 10,
      "outputs": []
    },
    {
      "cell_type": "code",
      "metadata": {
        "colab": {
          "base_uri": "https://localhost:8080/"
        },
        "id": "etReIYh6g_WY",
        "outputId": "80bb653e-c2bf-49c9-d9d0-4fca974476a6"
      },
      "source": [
        "from sklearn.model_selection import train_test_split\n",
        "x_train, x_test, y_train, y_test = train_test_split(x, y, test_size = 0.33)\n",
        "print(x[:10])\n",
        "print('\\n')\n",
        "print(y[:10])"
      ],
      "execution_count": 11,
      "outputs": [
        {
          "output_type": "stream",
          "name": "stdout",
          "text": [
            "[[24.]\n",
            " [50.]\n",
            " [15.]\n",
            " [38.]\n",
            " [87.]\n",
            " [36.]\n",
            " [12.]\n",
            " [81.]\n",
            " [25.]\n",
            " [ 5.]]\n",
            "\n",
            "\n",
            "0    21.549452\n",
            "1    47.464463\n",
            "2    17.218656\n",
            "3    36.586398\n",
            "4    87.288984\n",
            "5    32.463875\n",
            "6    10.780897\n",
            "7    80.763399\n",
            "8    24.612151\n",
            "9     6.963319\n",
            "Name: y, dtype: float64\n"
          ]
        }
      ]
    },
    {
      "cell_type": "code",
      "metadata": {
        "id": "od0TxOgNhGj2"
      },
      "source": [
        "from sklearn.linear_model import LinearRegression\n",
        "\n",
        "regressor = LinearRegression()\n",
        "regressor.fit(x_train, y_train)\n",
        "\n",
        "pred = regressor.predict(x_test)"
      ],
      "execution_count": 12,
      "outputs": []
    },
    {
      "cell_type": "code",
      "metadata": {
        "colab": {
          "base_uri": "https://localhost:8080/",
          "height": 313
        },
        "id": "jENlVhaZhK0z",
        "outputId": "c897a41f-3c4a-41ba-f040-30694c2e39c3"
      },
      "source": [
        "plt.scatter(x_train, y_train)\n",
        "plt.plot(x_train, regressor.predict(x_train), color='black')\n",
        "plt.title('Fit on training set')\n",
        "plt.xlabel('X-Train')\n",
        "plt.ylabel('Y-Train')"
      ],
      "execution_count": 13,
      "outputs": [
        {
          "output_type": "execute_result",
          "data": {
            "text/plain": [
              "Text(0, 0.5, 'Y-Train')"
            ]
          },
          "metadata": {},
          "execution_count": 13
        },
        {
          "output_type": "display_data",
          "data": {
            "image/png": "[encoded data removed]",
            "text/plain": [
              "<Figure size 432x288 with 1 Axes>"
            ]
          },
          "metadata": {
            "needs_background": "light"
          }
        }
      ]
    },
    {
      "cell_type": "code",
      "metadata": {
        "colab": {
          "base_uri": "https://localhost:8080/",
          "height": 313
        },
        "id": "UmJAS48mhP-6",
        "outputId": "ff263487-e150-4cba-bafb-1f282dc022d8"
      },
      "source": [
        "plt.scatter(x_test, y_test, color='r')\n",
        "plt.plot(x_test, pred, color='b')\n",
        "plt.title('Validation set')\n",
        "plt.xlabel('X-Test')\n",
        "plt.ylabel('Y-Test')"
      ],
      "execution_count": 14,
      "outputs": [
        {
          "output_type": "execute_result",
          "data": {
            "text/plain": [
              "Text(0, 0.5, 'Y-Test')"
            ]
          },
          "metadata": {},
          "execution_count": 14
        },
        {
          "output_type": "display_data",
          "data": {
            "image/png": "[encoded data removed]",
            "text/plain": [
              "<Figure size 432x288 with 1 Axes>"
            ]
          },
          "metadata": {
            "needs_background": "light"
          }
        }
      ]
    },
    {
      "cell_type": "code",
      "metadata": {
        "colab": {
          "base_uri": "https://localhost:8080/",
          "height": 295
        },
        "id": "jvBTyq9rhUEN",
        "outputId": "bf165094-b1cc-4c83-a1e0-4f627c864e77"
      },
      "source": [
        "test = pd.read_csv('/content/drive/MyDrive/machin-learning(2)/train.csv')\n",
        "test.plot.scatter('x', 'y', color='g')\n",
        "plt.plot(test['x'], regressor.predict(test.iloc[:,0:1].values), color='blue')\n",
        "plt.title('Linear Regression Ouput on Test Data Set')\n",
        "plt.xlabel('X-Values')\n",
        "plt.ylabel('Y-Values')\n",
        "plt.show()"
      ],
      "execution_count": 16,
      "outputs": [
        {
          "output_type": "display_data",
          "data": {
            "image/png": "[encoded data removed]",
            "text/plain": [
              "<Figure size 432x288 with 1 Axes>"
            ]
          },
          "metadata": {
            "needs_background": "light"
          }
        }
      ]
    }
  ]
}
